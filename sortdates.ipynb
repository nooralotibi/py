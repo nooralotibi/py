{
  "nbformat": 4,
  "nbformat_minor": 0,
  "metadata": {
    "colab": {
      "provenance": [],
      "authorship_tag": "ABX9TyMPcSHoCxrzSU0WDd3om8J+",
      "include_colab_link": true
    },
    "kernelspec": {
      "name": "python3",
      "display_name": "Python 3"
    },
    "language_info": {
      "name": "python"
    }
  },
  "cells": [
    {
      "cell_type": "markdown",
      "metadata": {
        "id": "view-in-github",
        "colab_type": "text"
      },
      "source": [
        "<a href=\"https://colab.research.google.com/github/nooralotibi/py/blob/main/sortdates.ipynb\" target=\"_parent\"><img src=\"https://colab.research.google.com/assets/colab-badge.svg\" alt=\"Open In Colab\"/></a>"
      ]
    },
    {
      "cell_type": "code",
      "execution_count": 13,
      "metadata": {
        "id": "OQ8gT4LMN7-m"
      },
      "outputs": [],
      "source": [
        "import datetime\n",
        "\n",
        "import calendar"
      ]
    },
    {
      "cell_type": "code",
      "source": [
        "\n",
        "numbers_set = set()\n",
        "for number in range(32):\n",
        "    numbers_set.add(str(number))\n",
        "months_set = set()\n",
        "\n",
        "for month in range(1, 13):\n",
        "    month_name = calendar.month_abbr[month].lower()\n",
        "    months_set.add(month_name)\n",
        "years_set = {str(year) for year in range(1900, 2024)}\n",
        "print(months_set)\n",
        "print(numbers_set)\n",
        "years_set = {str(year) for year in range(1900, 2024)}\n",
        "print(years_set)\n"
      ],
      "metadata": {
        "colab": {
          "base_uri": "https://localhost:8080/"
        },
        "id": "IqqokB5dP1Ug",
        "outputId": "2f277784-1a87-452e-fe7e-3576ce8bf205"
      },
      "execution_count": 52,
      "outputs": [
        {
          "output_type": "stream",
          "name": "stdout",
          "text": [
            "{'jun', 'jan', 'oct', 'feb', 'aug', 'may', 'jul', 'dec', 'sep', 'apr', 'mar', 'nov'}\n",
            "{'26', '21', '17', '8', '3', '24', '10', '20', '5', '6', '12', '4', '30', '0', '22', '9', '25', '2', '7', '14', '23', '13', '28', '18', '31', '1', '19', '29', '16', '15', '11', '27'}\n",
            "{'1925', '2001', '2004', '1972', '1918', '1948', '2021', '2018', '1951', '1926', '1936', '1943', '1960', '2017', '1947', '1996', '2000', '2012', '1902', '1961', '1930', '1915', '1967', '1941', '1957', '1969', '1934', '1931', '1981', '1963', '1923', '1990', '1989', '1903', '1998', '2008', '2014', '1901', '1984', '1905', '2011', '2015', '1928', '1927', '1983', '1964', '2020', '1939', '1988', '1976', '1908', '1991', '1954', '1962', '1938', '1946', '1974', '1952', '1995', '1953', '1955', '1999', '2013', '2023', '1912', '2009', '2005', '2006', '1966', '1945', '1977', '2003', '2007', '1965', '1937', '2022', '1907', '1982', '2019', '1979', '2010', '1906', '1910', '1949', '1987', '1904', '1992', '1959', '1968', '1917', '1942', '1924', '1958', '1909', '1914', '2016', '1900', '1993', '1913', '1971', '1921', '1932', '1940', '1997', '1919', '1911', '1978', '1916', '1933', '1956', '1994', '1975', '2002', '1944', '1920', '1980', '1985', '1922', '1973', '1986', '1935', '1950', '1970', '1929'}\n"
          ]
        }
      ]
    },
    {
      "cell_type": "code",
      "source": [
        "date = ['22-12-2022','2-2-2021','3-1-2023']\n",
        "date.sort()\n",
        "print(date)"
      ],
      "metadata": {
        "colab": {
          "base_uri": "https://localhost:8080/"
        },
        "id": "yYIOULuTOUb-",
        "outputId": "aeb10b95-3af9-4c34-cdbb-0db38c67ed0e"
      },
      "execution_count": 6,
      "outputs": [
        {
          "output_type": "stream",
          "name": "stdout",
          "text": [
            "['2-2-2021', '22-12-2022', '3-1-2023']\n"
          ]
        }
      ]
    },
    {
      "cell_type": "code",
      "source": [
        "import datetime\n",
        "import calender\n",
        "def sort_dates(dates):\n",
        "    def convert_date(date):\n",
        "        date_parts = date.split('-')\n",
        "        day = int(date_parts[0])\n",
        "        month_name = date_parts[1]\n",
        "        year = int(date_parts[2])\n",
        "        month = datetime.datetime.strptime(month_name, \"%B\").month\n",
        "        return datetime.datetime(year, month, day)\n",
        "\n",
        "    sorted_dates = sorted(dates, key=convert_date)\n",
        "    return sorted_dates\n",
        "\n",
        "dates = ['15-January-2023', '10-March-2022', '25-December-2021', '05-November-2022']\n",
        "sorted_dates = sort_dates(dates)\n",
        "print(sorted_dates)"
      ],
      "metadata": {
        "colab": {
          "base_uri": "https://localhost:8080/"
        },
        "id": "3MvbGqUxT1LP",
        "outputId": "8d9b8d1c-3474-44f0-8063-dfb90f818b8f"
      },
      "execution_count": 16,
      "outputs": [
        {
          "output_type": "stream",
          "name": "stdout",
          "text": [
            "['25-December-2021', '10-March-2022', '05-November-2022', '15-January-2023']\n"
          ]
        }
      ]
    },
    {
      "cell_type": "code",
      "source": [
        "\n",
        "dates = ['15-Jan-2023', '10-Mar-2022', '25-Dec-2021', '05-Nov-2022']\n",
        "\n",
        "date_key = lambda date: datetime.datetime.strptime(date, \"%d-%b-%Y\")\n",
        "dates.sort(key=date_key)\n",
        "print(dates)"
      ],
      "metadata": {
        "colab": {
          "base_uri": "https://localhost:8080/"
        },
        "id": "L3wcG_FxWt75",
        "outputId": "2001a85b-0694-4bdf-b06d-2ffeb17cf014"
      },
      "execution_count": 61,
      "outputs": [
        {
          "output_type": "stream",
          "name": "stdout",
          "text": [
            "['25-Dec-2021', '10-Mar-2022', '05-Nov-2022', '15-Jan-2023']\n"
          ]
        }
      ]
    }
  ]
}